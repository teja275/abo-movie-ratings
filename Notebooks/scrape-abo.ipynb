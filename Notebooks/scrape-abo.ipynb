{
 "cells": [
  {
   "cell_type": "code",
   "execution_count": 2,
   "id": "collective-quality",
   "metadata": {
    "ExecuteTime": {
     "end_time": "2021-06-06T05:19:28.211566Z",
     "start_time": "2021-06-06T05:19:22.790322Z"
    }
   },
   "outputs": [],
   "source": [
    "!pip install requests --upgrade --quiet"
   ]
  },
  {
   "cell_type": "code",
   "execution_count": 3,
   "id": "parallel-detector",
   "metadata": {
    "ExecuteTime": {
     "end_time": "2021-06-06T05:19:45.272009Z",
     "start_time": "2021-06-06T05:19:45.168240Z"
    }
   },
   "outputs": [],
   "source": [
    "import requests"
   ]
  },
  {
   "cell_type": "code",
   "execution_count": 4,
   "id": "herbal-sport",
   "metadata": {
    "ExecuteTime": {
     "end_time": "2021-06-06T05:20:57.851175Z",
     "start_time": "2021-06-06T05:20:57.676410Z"
    }
   },
   "outputs": [],
   "source": [
    "r = requests.get(\"http://andhraboxoffice.com/More.aspx?cid=12\")"
   ]
  },
  {
   "cell_type": "code",
   "execution_count": 8,
   "id": "wrapped-elizabeth",
   "metadata": {
    "ExecuteTime": {
     "end_time": "2021-06-06T05:22:46.935271Z",
     "start_time": "2021-06-06T05:22:46.929434Z"
    }
   },
   "outputs": [],
   "source": [
    "r_text = r.text"
   ]
  },
  {
   "cell_type": "code",
   "execution_count": 10,
   "id": "closed-donna",
   "metadata": {
    "ExecuteTime": {
     "end_time": "2021-06-06T05:24:16.254925Z",
     "start_time": "2021-06-06T05:24:16.247857Z"
    }
   },
   "outputs": [],
   "source": [
    "with open(\"reviews.html\", \"w\") as f:\n",
    "    f.write(r_text)"
   ]
  },
  {
   "cell_type": "code",
   "execution_count": 11,
   "id": "unusual-saver",
   "metadata": {
    "ExecuteTime": {
     "end_time": "2021-06-06T05:25:43.883282Z",
     "start_time": "2021-06-06T05:25:41.546020Z"
    }
   },
   "outputs": [],
   "source": [
    "!pip install beautifulsoup4 --upgrade --quiet"
   ]
  },
  {
   "cell_type": "code",
   "execution_count": 22,
   "id": "temporal-madonna",
   "metadata": {
    "ExecuteTime": {
     "end_time": "2021-06-06T05:36:12.500258Z",
     "start_time": "2021-06-06T05:36:12.495394Z"
    }
   },
   "outputs": [],
   "source": [
    "from bs4 import BeautifulSoup\n",
    "import re"
   ]
  },
  {
   "cell_type": "code",
   "execution_count": 17,
   "id": "attached-colony",
   "metadata": {
    "ExecuteTime": {
     "end_time": "2021-06-06T05:29:51.373509Z",
     "start_time": "2021-06-06T05:29:51.071468Z"
    }
   },
   "outputs": [],
   "source": [
    "with open(\"reviews.html\", \"r\") as f_read:\n",
    "    reviews_page = BeautifulSoup(f_read, 'html.parser')"
   ]
  },
  {
   "cell_type": "code",
   "execution_count": 71,
   "id": "antique-bernard",
   "metadata": {
    "ExecuteTime": {
     "end_time": "2021-06-06T06:09:02.911990Z",
     "start_time": "2021-06-06T06:09:02.887435Z"
    }
   },
   "outputs": [],
   "source": [
    "movie_details = reviews_page.find_all(\"a\", {'href': re.compile('^Details'), 'class': \"side_link\"})"
   ]
  },
  {
   "cell_type": "code",
   "execution_count": 82,
   "id": "administrative-subcommittee",
   "metadata": {
    "ExecuteTime": {
     "end_time": "2021-06-06T06:13:09.583512Z",
     "start_time": "2021-06-06T06:13:09.574870Z"
    }
   },
   "outputs": [
    {
     "data": {
      "text/plain": [
       "6386"
      ]
     },
     "execution_count": 82,
     "metadata": {},
     "output_type": "execute_result"
    }
   ],
   "source": [
    "int(re.findall(r\"fid=\\d+\", movie_details[0]['href'])[0][4:])"
   ]
  },
  {
   "cell_type": "code",
   "execution_count": 75,
   "id": "studied-pulse",
   "metadata": {
    "ExecuteTime": {
     "end_time": "2021-06-06T06:10:43.409151Z",
     "start_time": "2021-06-06T06:10:43.399059Z"
    }
   },
   "outputs": [
    {
     "data": {
      "text/plain": [
       "'Details.aspx?fid=6386&cid=12'"
      ]
     },
     "execution_count": 75,
     "metadata": {},
     "output_type": "execute_result"
    }
   ],
   "source": [
    "http://andhraboxoffice.com/info.aspx?id=6386&cid=12"
   ]
  },
  {
   "cell_type": "code",
   "execution_count": 85,
   "id": "subsequent-algorithm",
   "metadata": {
    "ExecuteTime": {
     "end_time": "2021-06-06T06:15:22.105713Z",
     "start_time": "2021-06-06T06:15:22.094605Z"
    }
   },
   "outputs": [],
   "source": [
    "movie_name_list = []\n",
    "movie_id_list = []\n",
    "movie_url_list = []\n",
    "base_url = \"http://andhraboxoffice.com\"\n",
    "for i in range(len(movie_details)):\n",
    "    movie_name = movie_details[i].text\n",
    "    movie_id = int(re.findall(r\"fid=\\d+\", movie_details[0]['href'])[0][4:])\n",
    "    movie_url = base_url + f\"/info.aspx?id={movie_id}&cid=12\"\n",
    "    movie_name_list.append(movie_name)\n",
    "    movie_id_list.append(movie_id)\n",
    "    movie_url_list.append(movie_url)"
   ]
  },
  {
   "cell_type": "code",
   "execution_count": 86,
   "id": "different-description",
   "metadata": {
    "ExecuteTime": {
     "end_time": "2021-06-06T06:15:45.882346Z",
     "start_time": "2021-06-06T06:15:44.483189Z"
    }
   },
   "outputs": [],
   "source": [
    "import pandas as pd"
   ]
  },
  {
   "cell_type": "code",
   "execution_count": 88,
   "id": "relevant-discussion",
   "metadata": {
    "ExecuteTime": {
     "end_time": "2021-06-06T06:16:34.517813Z",
     "start_time": "2021-06-06T06:16:34.512873Z"
    }
   },
   "outputs": [],
   "source": [
    "movie_reviews = pd.DataFrame({\"movie_name\": movie_name_list, \"movie_url\": movie_url_list})"
   ]
  },
  {
   "cell_type": "code",
   "execution_count": 89,
   "id": "homeless-mercury",
   "metadata": {
    "ExecuteTime": {
     "end_time": "2021-06-06T06:16:40.447752Z",
     "start_time": "2021-06-06T06:16:40.418020Z"
    }
   },
   "outputs": [
    {
     "data": {
      "text/html": [
       "<div>\n",
       "<style scoped>\n",
       "    .dataframe tbody tr th:only-of-type {\n",
       "        vertical-align: middle;\n",
       "    }\n",
       "\n",
       "    .dataframe tbody tr th {\n",
       "        vertical-align: top;\n",
       "    }\n",
       "\n",
       "    .dataframe thead th {\n",
       "        text-align: right;\n",
       "    }\n",
       "</style>\n",
       "<table border=\"1\" class=\"dataframe\">\n",
       "  <thead>\n",
       "    <tr style=\"text-align: right;\">\n",
       "      <th></th>\n",
       "      <th>movie_name</th>\n",
       "      <th>movie_url</th>\n",
       "    </tr>\n",
       "  </thead>\n",
       "  <tbody>\n",
       "    <tr>\n",
       "      <th>0</th>\n",
       "      <td>Sulthan</td>\n",
       "      <td>http://andhraboxoffice.com/info.aspx?id=6386&amp;c...</td>\n",
       "    </tr>\n",
       "    <tr>\n",
       "      <th>1</th>\n",
       "      <td>Bruce Lee - The Fighter</td>\n",
       "      <td>http://andhraboxoffice.com/info.aspx?id=6386&amp;c...</td>\n",
       "    </tr>\n",
       "    <tr>\n",
       "      <th>2</th>\n",
       "      <td>Wild Dog</td>\n",
       "      <td>http://andhraboxoffice.com/info.aspx?id=6386&amp;c...</td>\n",
       "    </tr>\n",
       "    <tr>\n",
       "      <th>3</th>\n",
       "      <td>Jadoogadu</td>\n",
       "      <td>http://andhraboxoffice.com/info.aspx?id=6386&amp;c...</td>\n",
       "    </tr>\n",
       "    <tr>\n",
       "      <th>4</th>\n",
       "      <td>Vakeel Saab</td>\n",
       "      <td>http://andhraboxoffice.com/info.aspx?id=6386&amp;c...</td>\n",
       "    </tr>\n",
       "    <tr>\n",
       "      <th>...</th>\n",
       "      <td>...</td>\n",
       "      <td>...</td>\n",
       "    </tr>\n",
       "    <tr>\n",
       "      <th>467</th>\n",
       "      <td>Nagavalli</td>\n",
       "      <td>http://andhraboxoffice.com/info.aspx?id=6386&amp;c...</td>\n",
       "    </tr>\n",
       "    <tr>\n",
       "      <th>468</th>\n",
       "      <td>Upendra 2</td>\n",
       "      <td>http://andhraboxoffice.com/info.aspx?id=6386&amp;c...</td>\n",
       "    </tr>\n",
       "    <tr>\n",
       "      <th>469</th>\n",
       "      <td>Mirapakaya</td>\n",
       "      <td>http://andhraboxoffice.com/info.aspx?id=6386&amp;c...</td>\n",
       "    </tr>\n",
       "    <tr>\n",
       "      <th>470</th>\n",
       "      <td>James Bond</td>\n",
       "      <td>http://andhraboxoffice.com/info.aspx?id=6386&amp;c...</td>\n",
       "    </tr>\n",
       "    <tr>\n",
       "      <th>471</th>\n",
       "      <td>Ragada</td>\n",
       "      <td>http://andhraboxoffice.com/info.aspx?id=6386&amp;c...</td>\n",
       "    </tr>\n",
       "  </tbody>\n",
       "</table>\n",
       "<p>472 rows × 2 columns</p>\n",
       "</div>"
      ],
      "text/plain": [
       "                  movie_name  \\\n",
       "0                    Sulthan   \n",
       "1    Bruce Lee - The Fighter   \n",
       "2                   Wild Dog   \n",
       "3                  Jadoogadu   \n",
       "4                Vakeel Saab   \n",
       "..                       ...   \n",
       "467                Nagavalli   \n",
       "468                Upendra 2   \n",
       "469               Mirapakaya   \n",
       "470               James Bond   \n",
       "471                   Ragada   \n",
       "\n",
       "                                             movie_url  \n",
       "0    http://andhraboxoffice.com/info.aspx?id=6386&c...  \n",
       "1    http://andhraboxoffice.com/info.aspx?id=6386&c...  \n",
       "2    http://andhraboxoffice.com/info.aspx?id=6386&c...  \n",
       "3    http://andhraboxoffice.com/info.aspx?id=6386&c...  \n",
       "4    http://andhraboxoffice.com/info.aspx?id=6386&c...  \n",
       "..                                                 ...  \n",
       "467  http://andhraboxoffice.com/info.aspx?id=6386&c...  \n",
       "468  http://andhraboxoffice.com/info.aspx?id=6386&c...  \n",
       "469  http://andhraboxoffice.com/info.aspx?id=6386&c...  \n",
       "470  http://andhraboxoffice.com/info.aspx?id=6386&c...  \n",
       "471  http://andhraboxoffice.com/info.aspx?id=6386&c...  \n",
       "\n",
       "[472 rows x 2 columns]"
      ]
     },
     "execution_count": 89,
     "metadata": {},
     "output_type": "execute_result"
    }
   ],
   "source": [
    "movie_reviews"
   ]
  },
  {
   "cell_type": "code",
   "execution_count": null,
   "id": "female-franchise",
   "metadata": {},
   "outputs": [],
   "source": []
  },
  {
   "cell_type": "code",
   "execution_count": 84,
   "id": "broadband-gibson",
   "metadata": {
    "ExecuteTime": {
     "end_time": "2021-06-06T06:14:35.829451Z",
     "start_time": "2021-06-06T06:14:35.821356Z"
    }
   },
   "outputs": [
    {
     "data": {
      "text/plain": [
       "'http://andhraboxoffice.com/info.aspx?id=6386&cid=12'"
      ]
     },
     "execution_count": 84,
     "metadata": {},
     "output_type": "execute_result"
    }
   ],
   "source": [
    "movie_url"
   ]
  },
  {
   "cell_type": "code",
   "execution_count": 70,
   "id": "under-print",
   "metadata": {
    "ExecuteTime": {
     "end_time": "2021-06-06T06:08:01.443637Z",
     "start_time": "2021-06-06T06:08:01.434552Z"
    }
   },
   "outputs": [
    {
     "data": {
      "text/plain": [
       "'Details.aspx?fid=6386&cid=12'"
      ]
     },
     "execution_count": 70,
     "metadata": {},
     "output_type": "execute_result"
    }
   ],
   "source": [
    "movies_list[0][\"href\"]"
   ]
  },
  {
   "cell_type": "code",
   "execution_count": null,
   "id": "threatened-southeast",
   "metadata": {},
   "outputs": [],
   "source": []
  },
  {
   "cell_type": "code",
   "execution_count": 49,
   "id": "developing-heaven",
   "metadata": {
    "ExecuteTime": {
     "end_time": "2021-06-06T05:55:32.761372Z",
     "start_time": "2021-06-06T05:55:32.754186Z"
    }
   },
   "outputs": [
    {
     "data": {
      "text/plain": [
       "'Details.aspx?fid=6386&cid=12'"
      ]
     },
     "execution_count": 49,
     "metadata": {},
     "output_type": "execute_result"
    }
   ],
   "source": [
    "movies_list[0]['href']"
   ]
  },
  {
   "cell_type": "code",
   "execution_count": 51,
   "id": "growing-description",
   "metadata": {
    "ExecuteTime": {
     "end_time": "2021-06-06T05:55:52.520836Z",
     "start_time": "2021-06-06T05:55:52.515568Z"
    }
   },
   "outputs": [],
   "source": [
    "base_url = \"http://andhraboxoffice.com/More.aspx?cid=12\""
   ]
  },
  {
   "cell_type": "code",
   "execution_count": null,
   "id": "southwest-glass",
   "metadata": {},
   "outputs": [],
   "source": [
    "movie_review_link = movies_list[0]['href']"
   ]
  },
  {
   "cell_type": "code",
   "execution_count": 52,
   "id": "talented-emerald",
   "metadata": {
    "ExecuteTime": {
     "end_time": "2021-06-06T06:04:09.837907Z",
     "start_time": "2021-06-06T06:04:09.834811Z"
    }
   },
   "outputs": [],
   "source": [
    "sample_string = \"Hello I'm Bhanu my age is 28\""
   ]
  },
  {
   "cell_type": "code",
   "execution_count": 54,
   "id": "cardiac-ordinance",
   "metadata": {
    "ExecuteTime": {
     "end_time": "2021-06-06T06:04:36.862658Z",
     "start_time": "2021-06-06T06:04:36.854948Z"
    }
   },
   "outputs": [
    {
     "data": {
      "text/plain": [
       "'28'"
      ]
     },
     "execution_count": 54,
     "metadata": {},
     "output_type": "execute_result"
    }
   ],
   "source": [
    "re.findall(r\"\\d+\", sample_string)[0]"
   ]
  },
  {
   "cell_type": "code",
   "execution_count": 43,
   "id": "abroad-daniel",
   "metadata": {
    "ExecuteTime": {
     "end_time": "2021-06-06T05:51:49.307805Z",
     "start_time": "2021-06-06T05:51:49.300813Z"
    }
   },
   "outputs": [
    {
     "data": {
      "text/plain": [
       "472"
      ]
     },
     "execution_count": 43,
     "metadata": {},
     "output_type": "execute_result"
    }
   ],
   "source": [
    "len(movies_list)"
   ]
  },
  {
   "cell_type": "code",
   "execution_count": 9,
   "id": "atomic-planet",
   "metadata": {
    "ExecuteTime": {
     "end_time": "2021-06-06T05:22:56.514859Z",
     "start_time": "2021-06-06T05:22:56.506509Z"
    }
   },
   "outputs": [
    {
     "data": {
      "text/plain": [
       "'\\r\\n\\r\\n<!DOCTYPE html PUBLIC \"-//W3C//DTD XHTML 1.0 Transitional//EN\" \"http://www.w3.org/TR/xhtml1/DTD/'"
      ]
     },
     "execution_count": 9,
     "metadata": {},
     "output_type": "execute_result"
    }
   ],
   "source": [
    "r_text[0:100]"
   ]
  },
  {
   "cell_type": "code",
   "execution_count": 7,
   "id": "boxed-cardiff",
   "metadata": {
    "ExecuteTime": {
     "end_time": "2021-06-06T05:22:26.672131Z",
     "start_time": "2021-06-06T05:22:26.663059Z"
    }
   },
   "outputs": [
    {
     "data": {
      "text/plain": [
       "383790"
      ]
     },
     "execution_count": 7,
     "metadata": {},
     "output_type": "execute_result"
    }
   ],
   "source": [
    "\n",
    "len(r.text)"
   ]
  },
  {
   "cell_type": "code",
   "execution_count": null,
   "id": "limited-jersey",
   "metadata": {},
   "outputs": [],
   "source": []
  }
 ],
 "metadata": {
  "kernelspec": {
   "display_name": "Python 3",
   "language": "python",
   "name": "python3"
  },
  "language_info": {
   "codemirror_mode": {
    "name": "ipython",
    "version": 3
   },
   "file_extension": ".py",
   "mimetype": "text/x-python",
   "name": "python",
   "nbconvert_exporter": "python",
   "pygments_lexer": "ipython3",
   "version": "3.9.2"
  }
 },
 "nbformat": 4,
 "nbformat_minor": 5
}
